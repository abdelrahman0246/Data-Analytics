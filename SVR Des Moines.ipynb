{
 "cells": [
  {
   "cell_type": "code",
   "execution_count": 3,
   "metadata": {},
   "outputs": [],
   "source": [
    "import pandas as pd\n",
    "import matplotlib.pyplot as plt\n",
    "import seaborn as sns\n",
    "import numpy as np\n",
    "import tensorflow as tf\n",
    "from tensorflow import keras\n",
    "from sklearn import linear_model\n",
    "from sklearn.svm import SVR\n",
    "from sklearn.model_selection import train_test_split\n",
    "from glob import glob\n",
    "from sklearn.metrics import r2_score\n",
    "from math import sqrt\n",
    "from numpy import concatenate\n",
    "import numpy as np\n",
    "from pandas import read_csv\n",
    "from pandas import DataFrame\n",
    "from pandas import concat\n",
    "from sklearn.preprocessing import MinMaxScaler\n",
    "from sklearn.metrics import mean_squared_error\n",
    "from sklearn import tree\n",
    "from matplotlib import pyplot\n",
    "from random import randint\n",
    "from sklearn.metrics import mean_absolute_error\n",
    "import math\n"
   ]
  },
  {
   "cell_type": "code",
   "execution_count": 35,
   "metadata": {},
   "outputs": [
    {
     "data": {
      "text/html": [
       "<div>\n",
       "<style scoped>\n",
       "    .dataframe tbody tr th:only-of-type {\n",
       "        vertical-align: middle;\n",
       "    }\n",
       "\n",
       "    .dataframe tbody tr th {\n",
       "        vertical-align: top;\n",
       "    }\n",
       "\n",
       "    .dataframe thead th {\n",
       "        text-align: right;\n",
       "    }\n",
       "</style>\n",
       "<table border=\"1\" class=\"dataframe\">\n",
       "  <thead>\n",
       "    <tr style=\"text-align: right;\">\n",
       "      <th></th>\n",
       "      <th>Year</th>\n",
       "      <th>Month</th>\n",
       "      <th>Day</th>\n",
       "      <th>Hour</th>\n",
       "      <th>Minute</th>\n",
       "      <th>DHI</th>\n",
       "      <th>DNI</th>\n",
       "      <th>GHI</th>\n",
       "      <th>Dew Point</th>\n",
       "      <th>Solar Zenith Angle</th>\n",
       "      <th>Wind Speed</th>\n",
       "      <th>Relative Humidity</th>\n",
       "      <th>Temperature</th>\n",
       "      <th>Pressure</th>\n",
       "    </tr>\n",
       "  </thead>\n",
       "  <tbody>\n",
       "    <tr>\n",
       "      <th>0</th>\n",
       "      <td>2016</td>\n",
       "      <td>1</td>\n",
       "      <td>1</td>\n",
       "      <td>0</td>\n",
       "      <td>0</td>\n",
       "      <td>0</td>\n",
       "      <td>0</td>\n",
       "      <td>0</td>\n",
       "      <td>-9.0</td>\n",
       "      <td>160.98</td>\n",
       "      <td>4.2</td>\n",
       "      <td>84.65</td>\n",
       "      <td>-7.0</td>\n",
       "      <td>980</td>\n",
       "    </tr>\n",
       "    <tr>\n",
       "      <th>1</th>\n",
       "      <td>2016</td>\n",
       "      <td>1</td>\n",
       "      <td>1</td>\n",
       "      <td>0</td>\n",
       "      <td>30</td>\n",
       "      <td>0</td>\n",
       "      <td>0</td>\n",
       "      <td>0</td>\n",
       "      <td>-9.0</td>\n",
       "      <td>161.24</td>\n",
       "      <td>3.9</td>\n",
       "      <td>84.65</td>\n",
       "      <td>-7.0</td>\n",
       "      <td>980</td>\n",
       "    </tr>\n",
       "    <tr>\n",
       "      <th>2</th>\n",
       "      <td>2016</td>\n",
       "      <td>1</td>\n",
       "      <td>1</td>\n",
       "      <td>1</td>\n",
       "      <td>0</td>\n",
       "      <td>0</td>\n",
       "      <td>0</td>\n",
       "      <td>0</td>\n",
       "      <td>-9.0</td>\n",
       "      <td>159.49</td>\n",
       "      <td>3.7</td>\n",
       "      <td>86.55</td>\n",
       "      <td>-8.0</td>\n",
       "      <td>980</td>\n",
       "    </tr>\n",
       "    <tr>\n",
       "      <th>3</th>\n",
       "      <td>2016</td>\n",
       "      <td>1</td>\n",
       "      <td>1</td>\n",
       "      <td>1</td>\n",
       "      <td>30</td>\n",
       "      <td>0</td>\n",
       "      <td>0</td>\n",
       "      <td>0</td>\n",
       "      <td>-9.0</td>\n",
       "      <td>156.17</td>\n",
       "      <td>3.8</td>\n",
       "      <td>86.55</td>\n",
       "      <td>-8.0</td>\n",
       "      <td>980</td>\n",
       "    </tr>\n",
       "    <tr>\n",
       "      <th>4</th>\n",
       "      <td>2016</td>\n",
       "      <td>1</td>\n",
       "      <td>1</td>\n",
       "      <td>2</td>\n",
       "      <td>0</td>\n",
       "      <td>0</td>\n",
       "      <td>0</td>\n",
       "      <td>0</td>\n",
       "      <td>-10.0</td>\n",
       "      <td>151.85</td>\n",
       "      <td>4.0</td>\n",
       "      <td>84.20</td>\n",
       "      <td>-8.0</td>\n",
       "      <td>980</td>\n",
       "    </tr>\n",
       "  </tbody>\n",
       "</table>\n",
       "</div>"
      ],
      "text/plain": [
       "   Year  Month  Day  Hour  Minute  DHI  DNI  GHI  Dew Point  \\\n",
       "0  2016      1    1     0       0    0    0    0       -9.0   \n",
       "1  2016      1    1     0      30    0    0    0       -9.0   \n",
       "2  2016      1    1     1       0    0    0    0       -9.0   \n",
       "3  2016      1    1     1      30    0    0    0       -9.0   \n",
       "4  2016      1    1     2       0    0    0    0      -10.0   \n",
       "\n",
       "   Solar Zenith Angle  Wind Speed  Relative Humidity  Temperature  Pressure  \n",
       "0              160.98         4.2              84.65         -7.0       980  \n",
       "1              161.24         3.9              84.65         -7.0       980  \n",
       "2              159.49         3.7              86.55         -8.0       980  \n",
       "3              156.17         3.8              86.55         -8.0       980  \n",
       "4              151.85         4.0              84.20         -8.0       980  "
      ]
     },
     "execution_count": 35,
     "metadata": {},
     "output_type": "execute_result"
    }
   ],
   "source": [
    "df2016 = pd.read_csv (r'PSM_DesMoines,IA_2016.csv',index_col = False,skiprows=3, names = ['Year','Month','Day','Hour','Minute','DHI','DNI','GHI','Dew Point','Solar Zenith Angle','Wind Speed','Relative Humidity','Temperature','Pressure'\n",
    "])\n",
    "df2017 = pd.read_csv (r'PSM_DesMoines,IA_2017.csv',index_col = False,skiprows=3, names = ['Year','Month','Day','Hour','Minute','DHI','DNI','GHI','Dew Point','Solar Zenith Angle','Wind Speed','Relative Humidity','Temperature','Pressure'\n",
    "])\n",
    "df2018= pd.read_csv (r'PSM_DesMoines,IA_2018.csv',index_col = False,skiprows=3, names = ['Year','Month','Day','Hour','Minute','DHI','DNI','GHI','Dew Point','Solar Zenith Angle','Wind Speed','Relative Humidity','Temperature','Pressure'\n",
    "])\n",
    "dftraining= df2016.append([df2017,df2018])\n",
    "dftraining.head()"
   ]
  },
  {
   "cell_type": "code",
   "execution_count": 5,
   "metadata": {},
   "outputs": [],
   "source": [
    "dftesting = pd.read_csv (r'PSM_DesMoines,IA_2019.csv',index_col = False,skiprows=3, names = ['Year','Month','Day','Hour','Minute','DHI','DNI','GHI','Dew Point','Solar Zenith Angle','Wind Speed','Relative Humidity','Temperature','Pressure'\n",
    "])"
   ]
  },
  {
   "cell_type": "code",
   "execution_count": 115,
   "metadata": {},
   "outputs": [],
   "source": [
    "def combine_training_arrays(df, input_arry, output_arr):\n",
    "    ghi  = df['GHI'].values\n",
    "    temp  = df['Temperature'].values\n",
    "    #cloud_cover = df['Cloud Cover'].values\n",
    "    hours = df['Hour'].values\n",
    "    minutes = df['Minute'].values\n",
    "    solar_zenith = df['Solar Zenith Angle'].values\n",
    "    pressure = df['Pressure'].values\n",
    "    dhi = df['DHI'].values\n",
    "    dni = df['DNI'].values\n",
    "    #Sanity check, should all be 8760\n",
    "    #assert len(pressure)==len(solar_zenith)==len(minutes)==len(hours)==len(ghi)==8760, \"len of input array not 8760\"\n",
    "    ar = np.array([ ghi,hours, minutes, solar_zenith, pressure,temp]).T\n",
    "    input_arry = np.concatenate((input_arry, ar))\n",
    "    output_arr = np.concatenate((output_arr, np.array(dni).T))\n",
    "    return input_arry, output_arr"
   ]
  },
  {
   "cell_type": "code",
   "execution_count": 116,
   "metadata": {},
   "outputs": [],
   "source": [
    "input_size = 6\n",
    "input_arry = np.array([]).reshape(0,input_size)\n",
    "output_arry = np.array([])\n",
    "\n",
    "input_arry, output_arry = combine_training_arrays(dftraining, input_arry, output_arry)"
   ]
  },
  {
   "cell_type": "code",
   "execution_count": 117,
   "metadata": {},
   "outputs": [
    {
     "name": "stdout",
     "output_type": "stream",
     "text": [
      "(52560, 6)\n",
      "[0. 0. 0. ... 0. 0. 0.]\n"
     ]
    }
   ],
   "source": [
    "X_train = input_arry \n",
    "Y_train = output_arry\n",
    "\n",
    "print(X_train.shape)\n",
    "print(Y_train)"
   ]
  },
  {
   "cell_type": "code",
   "execution_count": 118,
   "metadata": {},
   "outputs": [],
   "source": [
    "def create_testing_arrays(df, input_arry, output_arr):\n",
    "    ghi  = df['GHI'].values\n",
    "    temp  = df['Temperature'].values\n",
    "    #cloud_cover = df['Cloud Cover'].values\n",
    "    hours = df['Hour'].values\n",
    "    minutes = df['Minute'].values\n",
    "    solar_zenith = df['Solar Zenith Angle'].values\n",
    "    pressure = df['Pressure'].values\n",
    "    dhi = df['DHI'].values\n",
    "    dni = df['DNI'].values\n",
    "    #Sanity check, should all be 8760\n",
    "    #assert len(pressure)==len(solar_zenith)==len(minutes)==len(hours)==len(ghi)==8760, \"len of input array not 8760\"\n",
    "    ar = np.array([ ghi,hours, minutes, solar_zenith, pressure,temp]).T\n",
    "    input_arry = np.concatenate((input_arry, ar))\n",
    "    output_arr = np.concatenate((output_arr, np.array(dni).T))\n",
    "    return input_arry, output_arr"
   ]
  },
  {
   "cell_type": "code",
   "execution_count": 119,
   "metadata": {},
   "outputs": [],
   "source": [
    "input_size = 6\n",
    "test_input_arry = np.array([]).reshape(0,input_size)\n",
    "test_output_arry = np.array([])\n",
    "\n",
    "test_input_arry, test_output_arry = create_testing_arrays(dftesting, test_input_arry, test_output_arry)"
   ]
  },
  {
   "cell_type": "code",
   "execution_count": 120,
   "metadata": {},
   "outputs": [
    {
     "name": "stdout",
     "output_type": "stream",
     "text": [
      "(17520, 6)\n",
      "(17520,)\n"
     ]
    }
   ],
   "source": [
    "X_test=test_input_arry\n",
    "y_test=test_output_arry\n",
    "\n",
    "print(X_test.shape)\n",
    "print(y_test.shape)"
   ]
  },
  {
   "cell_type": "code",
   "execution_count": 121,
   "metadata": {},
   "outputs": [
    {
     "name": "stdout",
     "output_type": "stream",
     "text": [
      "0.8991954139670137\n",
      "mean square error 8795.656060346571\n"
     ]
    }
   ],
   "source": [
    "from sklearn.svm import SVR\n",
    "from sklearn.metrics import mean_squared_error\n",
    "# design svm model\n",
    "#clf = SVR()\n",
    "clf = SVR(kernel='poly', C=50, gamma='scale')\n",
    "# fit model\n",
    "clf.fit(X_train,Y_train)\n",
    "\n",
    "# make a prediction\n",
    "predict_y = clf.predict(X_test)\n",
    "#yhat = predict_y.reshape(predict_y.shape[0],1)\n",
    "#test_X = test_X.reshape((test_X.shape[0],n_mins*n_features))\n",
    "print(r2_score(y_test, predict_y))\n",
    "MSE=mean_squared_error(y_test,predict_y) \n",
    "print('mean square error', MSE)\n"
   ]
  },
  {
   "cell_type": "code",
   "execution_count": 122,
   "metadata": {},
   "outputs": [
    {
     "name": "stderr",
     "output_type": "stream",
     "text": [
      "No handles with labels found to put in legend.\n"
     ]
    },
    {
     "name": "stdout",
     "output_type": "stream",
     "text": [
      "51.942406678654045\n"
     ]
    },
    {
     "data": {
      "text/plain": [
       "<AxesSubplot:xlabel='Time (months)', ylabel='DHI w/m^2'>"
      ]
     },
     "execution_count": 122,
     "metadata": {},
     "output_type": "execute_result"
    },
    {
     "data": {
      "image/png": "[encoded data removed]",
      "text/plain": [
       "<Figure size 720x360 with 1 Axes>"
      ]
     },
     "metadata": {
      "needs_background": "light"
     },
     "output_type": "display_data"
    }
   ],
   "source": [
    "from sklearn.metrics import mean_absolute_error\n",
    "print(mean_absolute_error(y_test, predict_y))\n",
    "plt.figure(figsize=(10, 5))\n",
    "#plt.plot(np.arange(0, len(Y_train)), Y_train, 'g', label=\"history\")\n",
    "# plt.plot(np.arange(len(y_test[0:1488])), y_test[0:1488], marker='', label=\"true\")\n",
    "# plt.plot(np.arange( len(y_test[0:1488])), predict_y[0:1488], 'y', label=\"prediction\")\n",
    "# # plt.plot(np.arange(len(y_test)), y_test, marker='.', label=\"true\")\n",
    "leg = plt.legend();\n",
    "\n",
    "# print(np.mean(y_test[0:1488]))\n",
    "# plt.plot(np.arange( len(y_test)), predict_y, 'y', label=\"prediction\")\n",
    "plt.ylabel('DHI w/m^2')\n",
    "plt.xlabel('Time (months)')\n",
    "sns.lineplot(x = dftesting.Month, y = y_test ,data = dftesting,label=\"true\")\n",
    "sns.lineplot(x = dftesting.Month, y = predict_y, data = dftesting,label=\"prediction\")"
   ]
  },
  {
   "cell_type": "code",
   "execution_count": 51,
   "metadata": {},
   "outputs": [
    {
     "name": "stdout",
     "output_type": "stream",
     "text": [
      "54.0\n"
     ]
    }
   ],
   "source": [
    "print(y_test[120])"
   ]
  },
  {
   "cell_type": "code",
   "execution_count": 52,
   "metadata": {},
   "outputs": [
    {
     "name": "stdout",
     "output_type": "stream",
     "text": [
      "47.77111037728845\n"
     ]
    }
   ],
   "source": [
    "print(predict_y[120])"
   ]
  },
  {
   "cell_type": "code",
   "execution_count": 113,
   "metadata": {},
   "outputs": [],
   "source": [
    "from sklearn.model_selection import GridSearchCV"
   ]
  },
  {
   "cell_type": "code",
   "execution_count": 114,
   "metadata": {},
   "outputs": [],
   "source": [
    "def grid_search(x_train, y_train, parameters):\n",
    "\n",
    "    print(\"Start grid searching ...\")\n",
    "\n",
    "    # parsing grid_search config\n",
    "    num_of_folds = 3\n",
    "#     gs_config = [{'kernel': [parameters['kernel']],\n",
    "#                   'C': parameters['c_pool'],\n",
    "#                   'gamma': parameters['gamma_pool']}]\n",
    "\n",
    "    svr = SVR()\n",
    "    clf = GridSearchCV(svr, parameters, cv=num_of_folds, \\\n",
    "            scoring='neg_mean_squared_error', n_jobs=6)\n",
    "    clf.fit(x_train, y_train)\n",
    "\n",
    "    print(\"The best parameters set found on development set: {}\"\\\n",
    "            .format(clf.best_params_))\n",
    "    print(\"The correspnding score is {}\".format(clf.best_score_))\n",
    "    print(\"The best parameters set found on development set: {}\"\\\n",
    "            .format(clf.best_params_))\n",
    "    print(\"The correspnding score is {}\".format(clf.best_score_))\n",
    "\n",
    "#     logging.info(\"Saving the best model on disk ...\")\n",
    "#     utl.save_model(clf.best_estimator_, parameters['name'] + '-grid-search')\n",
    "\n",
    "    return clf"
   ]
  },
  {
   "cell_type": "code",
   "execution_count": 115,
   "metadata": {},
   "outputs": [
    {
     "name": "stdout",
     "output_type": "stream",
     "text": [
      "Start grid searching ...\n",
      "The best parameters set found on development set: {'C': 50, 'gamma': 'scale', 'kernel': 'poly'}\n",
      "The correspnding score is -48.575922346355924\n",
      "The best parameters set found on development set: {'C': 50, 'gamma': 'scale', 'kernel': 'poly'}\n",
      "The correspnding score is -48.575922346355924\n"
     ]
    },
    {
     "data": {
      "text/plain": [
       "GridSearchCV(cv=3, estimator=SVR(), n_jobs=6,\n",
       "             param_grid={'C': [50, 10, 1.0, 0.1, 0.01], 'gamma': ['scale'],\n",
       "                         'kernel': ['poly', 'rbf', 'sigmoid']},\n",
       "             scoring='neg_mean_squared_error')"
      ]
     },
     "execution_count": 115,
     "metadata": {},
     "output_type": "execute_result"
    }
   ],
   "source": [
    "kernel = ['poly', 'rbf', 'sigmoid']\n",
    "C = [50, 10, 1.0, 0.1, 0.01]\n",
    "gamma = ['scale']\n",
    " \n",
    "param2 = dict(kernel=kernel,C=C,gamma=gamma)\n",
    "\n",
    "grid_search(X_train, Y_train,param2)"
   ]
  },
  {
   "cell_type": "code",
   "execution_count": 80,
   "metadata": {},
   "outputs": [
    {
     "name": "stdout",
     "output_type": "stream",
     "text": [
      "index is  6636\n",
      "Actual  29.0   Predicted  19.798466037377747\n"
     ]
    }
   ],
   "source": [
    "i = randint(0,8760)\n",
    "print(\"index is \",i)\n",
    "\n",
    "print(\"Actual \",y_test[i],\" \",\"Predicted \", predict_y[i])"
   ]
  },
  {
   "cell_type": "code",
   "execution_count": null,
   "metadata": {},
   "outputs": [],
   "source": [
    "print(mean_absolute_error(y_test,predict_y))"
   ]
  },
  {
   "cell_type": "code",
   "execution_count": null,
   "metadata": {},
   "outputs": [],
   "source": [
    "predict_y.shape\n",
    "y_test.shape"
   ]
  },
  {
   "cell_type": "code",
   "execution_count": 147,
   "metadata": {},
   "outputs": [],
   "source": [
    "def MAPE(y,yhat):\n",
    "    d = 0\n",
    "    for i in range(len(y)):\n",
    "        d = d + abs(y[i]-yhat[i])/y[i]\n",
    "    return (100*d)/len(y)"
   ]
  },
  {
   "cell_type": "code",
   "execution_count": null,
   "metadata": {},
   "outputs": [],
   "source": []
  }
 ],
 "metadata": {
  "kernelspec": {
   "display_name": "Python 3",
   "language": "python",
   "name": "python3"
  },
  "language_info": {
   "codemirror_mode": {
    "name": "ipython",
    "version": 3
   },
   "file_extension": ".py",
   "mimetype": "text/x-python",
   "name": "python",
   "nbconvert_exporter": "python",
   "pygments_lexer": "ipython3",
   "version": "3.8.5"
  }
 },
 "nbformat": 4,
 "nbformat_minor": 4
}
